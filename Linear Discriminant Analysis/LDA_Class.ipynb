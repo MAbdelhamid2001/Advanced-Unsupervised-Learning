{
 "cells": [
  {
   "cell_type": "code",
   "execution_count": 1,
   "id": "60df70cf-f19d-4ad7-9e12-875791b027e9",
   "metadata": {},
   "outputs": [],
   "source": [
    "import numpy as np \n",
    "import pandas as pd\n",
    "import matplotlib.pyplot as plt\n",
    "from sklearn.model_selection import train_test_split \n",
    "from sklearn.datasets import load_iris\n",
    "from sklearn.preprocessing import StandardScaler\n",
    "import warnings\n",
    "warnings.filterwarnings('ignore')"
   ]
  },
  {
   "cell_type": "code",
   "execution_count": 2,
   "id": "d1baf815-5f33-47cb-91b1-efed9fcfcb9c",
   "metadata": {},
   "outputs": [],
   "source": [
    "dat=load_iris()"
   ]
  },
  {
   "cell_type": "code",
   "execution_count": 3,
   "id": "92267039-d4d5-4bb6-934b-3c60271be95c",
   "metadata": {},
   "outputs": [],
   "source": [
    "df=pd.DataFrame(data=dat.data,columns=dat.feature_names)\n",
    "df_targets=dat.target"
   ]
  },
  {
   "cell_type": "code",
   "execution_count": 4,
   "id": "2b0583c0-f8bf-44b2-9a62-ff9151950648",
   "metadata": {},
   "outputs": [],
   "source": [
    "X=df\n",
    "y=df_targets\n",
    "scaler = StandardScaler()\n",
    "X = scaler.fit_transform(X)\n",
    "X_train, X_test ,y_train, y_test  = train_test_split(X,y, random_state=42,test_size=0.20,stratify=y, shuffle=True)"
   ]
  },
  {
   "cell_type": "code",
   "execution_count": 5,
   "id": "336a0244-c2c2-43f0-9d3f-dc740041285c",
   "metadata": {},
   "outputs": [],
   "source": [
    "class LDA_:\n",
    "    def __init__(self,n_components=None):\n",
    "        self.n_components=n_components\n",
    "        self.W=None\n",
    "        self.classes=None\n",
    "    def fit(self,X_train,y_train):\n",
    "        self.X_train = X_train\n",
    "        self.y_train = y_train\n",
    "        self.classes = np.unique(y_train)\n",
    "        \n",
    "        # get overall mean\n",
    "        overall_mean= np.mean(X_train,axis=0)\n",
    "        #then get mean for each class \n",
    "        means_={}\n",
    "        for c in self.classes:\n",
    "            means_[c] = np.mean(X_train[y_train==c],axis=0)  \n",
    "\n",
    "        # Then get Within-class matrix SW\n",
    "        S_W = np.zeros((X_train.shape[1], X_train.shape[1]))\n",
    "        for c in self.classes:\n",
    "            diff=(X_train[y_train==c] - means_[c]).T\n",
    "            S_W += diff @ diff.T  # like np.dot()            \n",
    "\n",
    "        # Then get Between-class matrix SB\n",
    "        S_B = np.zeros((X_train.shape[1], X_train.shape[1]))\n",
    "        for c in self.classes:\n",
    "            # n_c number of samples per class \n",
    "            n_c = X_train[y_train==c].shape[0]\n",
    "            mean_diff=(means_[c] - overall_mean).reshape(-1,1)\n",
    "            S_B += n_c * (mean_diff @ mean_diff.T)\n",
    "\n",
    "        # Solve generalized eigenvalue problem\n",
    "        eigen_vals,eigen_vectors=np.linalg.eig(np.linalg.pinv(S_W).dot(S_B))\n",
    "        \n",
    "        # Sort Eigen vector values based on Eigen values\n",
    "        sorted_indices=np.argsort(eigen_vals)[::-1]\n",
    "        eigen_vectors=eigen_vectors[:,sorted_indices]\n",
    "\n",
    "        # Use top component for 1D projection\n",
    "        # we use number of components equal no_classes-1\n",
    "        if self.n_components is None:\n",
    "            self.n_components = len(self.classes) - 1\n",
    "            \n",
    "        self.W = eigen_vectors[:, :self.n_components]\n",
    "\n",
    "\n",
    "    def predict(self,X_test):\n",
    "        # Project training and test data\n",
    "        X_lda_train = self.X_train @ self.W\n",
    "        X_lda_test = X_test @ self.W\n",
    "\n",
    "        # get mean for each class after projection for training \n",
    "        proj_class_means={}\n",
    "        for c in self.classes:\n",
    "            proj_class_means[c] = np.mean(X_lda_train[y_train==c],axis=0)\n",
    "################################\n",
    "        # new we use Euclidean distance for multi-dimensional w\n",
    "        distances={}\n",
    "        for cls , mean in proj_class_means.items():\n",
    "            distances[cls]=np.linalg.norm(X_lda_test - mean, axis=1)\n",
    "        #####\n",
    "        res=pd.DataFrame([distances[c] for c in distances])\n",
    "        res_final=np.argmin(res,axis=0)\n",
    "        return res_final\n",
    "############################################\n",
    "        # # old\n",
    "        # distances = {}\n",
    "        # for cls, mean in proj_class_means.items():\n",
    "        #     distances[cls] = np.abs(X_lda_test - mean)\n",
    "            \n",
    "        # res=pd.DataFrame(np.hstack([distances[c] for c in distances] ))\n",
    "        # res_final=np.argmin(res,axis=1)\n",
    "        # return res_final\n",
    "####################################################\n",
    "\n",
    "\n",
    "    def fit_transform(self,X_train,y_train):\n",
    "        self.fit(X_train,y_train)\n",
    "        return self.predict(X_train)\n"
   ]
  },
  {
   "cell_type": "code",
   "execution_count": 6,
   "id": "000777e9-ed1d-48fd-a20c-8cb99710bb86",
   "metadata": {},
   "outputs": [],
   "source": [
    "clf=LDA_(1)"
   ]
  },
  {
   "cell_type": "code",
   "execution_count": 7,
   "id": "70c58144-6802-4c64-9fec-bcd9368b0be4",
   "metadata": {},
   "outputs": [],
   "source": [
    "y_train_res=clf.fit_transform(X_train,y_train)"
   ]
  },
  {
   "cell_type": "code",
   "execution_count": 8,
   "id": "5f9cbf28-722f-45a8-86bd-ecaf325f794d",
   "metadata": {},
   "outputs": [],
   "source": [
    "pred=clf.predict(X_test)"
   ]
  },
  {
   "cell_type": "code",
   "execution_count": 9,
   "id": "0c105ae1-8602-425e-9279-c6db17f64585",
   "metadata": {},
   "outputs": [
    {
     "name": "stdout",
     "output_type": "stream",
     "text": [
      "Train Accuracy 0.9833333333333333\n",
      "Test Accuracy 1.0\n"
     ]
    }
   ],
   "source": [
    "from sklearn.metrics import accuracy_score\n",
    "print('Train Accuracy',accuracy_score(y_train_res, y_train))\n",
    "print('Test Accuracy',accuracy_score(pred, y_test))"
   ]
  },
  {
   "cell_type": "markdown",
   "id": "37510be3-5f54-420e-886e-004ab5757132",
   "metadata": {},
   "source": [
    "## Plotting classes"
   ]
  },
  {
   "cell_type": "code",
   "execution_count": 10,
   "id": "008f5157-3fbb-4950-ac7e-a7a41c6e8bd1",
   "metadata": {},
   "outputs": [],
   "source": [
    "X_test_proj = X_test @ clf.W"
   ]
  },
  {
   "cell_type": "code",
   "execution_count": 11,
   "id": "380d31d1-260b-40f2-9b90-c8728eded285",
   "metadata": {},
   "outputs": [],
   "source": [
    "classes=clf.classes"
   ]
  },
  {
   "cell_type": "code",
   "execution_count": 12,
   "id": "371926e8-a98d-4804-b9b7-db19370c59b9",
   "metadata": {},
   "outputs": [
    {
     "data": {
      "image/png": "[encoded data removed]",
      "text/plain": [
       "<Figure size 1000x500 with 1 Axes>"
      ]
     },
     "metadata": {},
     "output_type": "display_data"
    }
   ],
   "source": [
    "plt.figure(figsize=(10, 5))\n",
    "for c in classes:\n",
    "    plt.hist(X_test_proj[y_test == c], bins=10, alpha=0.6, label=f\"Class {c}\")\n",
    "plt.title(\"LDA Projection (1D)\")\n",
    "plt.xlabel(\"Projected Value\")\n",
    "plt.legend()\n",
    "plt.show()"
   ]
  }
 ],
 "metadata": {
  "kernelspec": {
   "display_name": "Python 3 (ipykernel)",
   "language": "python",
   "name": "python3"
  },
  "language_info": {
   "codemirror_mode": {
    "name": "ipython",
    "version": 3
   },
   "file_extension": ".py",
   "mimetype": "text/x-python",
   "name": "python",
   "nbconvert_exporter": "python",
   "pygments_lexer": "ipython3",
   "version": "3.13.5"
  }
 },
 "nbformat": 4,
 "nbformat_minor": 5
}
